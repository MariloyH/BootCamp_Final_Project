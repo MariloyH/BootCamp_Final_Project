{
 "cells": [
  {
   "cell_type": "markdown",
   "id": "c794d481-d109-4f84-bdb7-061654271b43",
   "metadata": {},
   "source": [
    "## Cleaning the yelp restaurants data"
   ]
  },
  {
   "cell_type": "code",
   "execution_count": 3,
   "id": "efa72caf-f94f-4ae4-b4a5-72785591874a",
   "metadata": {},
   "outputs": [],
   "source": [
    "import pandas as pd\n",
    "from pathlib import Path"
   ]
  },
  {
   "cell_type": "code",
   "execution_count": 4,
   "id": "4e6737e3-0fa5-4536-82b7-598b1594e90d",
   "metadata": {},
   "outputs": [
    {
     "data": {
      "text/html": [
       "<div>\n",
       "<style scoped>\n",
       "    .dataframe tbody tr th:only-of-type {\n",
       "        vertical-align: middle;\n",
       "    }\n",
       "\n",
       "    .dataframe tbody tr th {\n",
       "        vertical-align: top;\n",
       "    }\n",
       "\n",
       "    .dataframe thead th {\n",
       "        text-align: right;\n",
       "    }\n",
       "</style>\n",
       "<table border=\"1\" class=\"dataframe\">\n",
       "  <thead>\n",
       "    <tr style=\"text-align: right;\">\n",
       "      <th></th>\n",
       "      <th>ID</th>\n",
       "      <th>Name</th>\n",
       "      <th>Image</th>\n",
       "      <th>Url</th>\n",
       "      <th>Review count</th>\n",
       "      <th>Category</th>\n",
       "      <th>Rating</th>\n",
       "      <th>Price</th>\n",
       "      <th>Latitude</th>\n",
       "      <th>Longitude</th>\n",
       "      <th>Address</th>\n",
       "      <th>City</th>\n",
       "      <th>State</th>\n",
       "      <th>Country</th>\n",
       "      <th>Phone</th>\n",
       "      <th>Review</th>\n",
       "    </tr>\n",
       "  </thead>\n",
       "  <tbody>\n",
       "    <tr>\n",
       "      <th>0</th>\n",
       "      <td>J7_-faNq_Ag9qTOlDn81Pw</td>\n",
       "      <td>Starbelly</td>\n",
       "      <td>https://s3-media2.fl.yelpcdn.com/bphoto/G1SweY...</td>\n",
       "      <td>https://www.yelp.com/biz/starbelly-san-francis...</td>\n",
       "      <td>2080</td>\n",
       "      <td>Comfort Food</td>\n",
       "      <td>4.0</td>\n",
       "      <td>$$</td>\n",
       "      <td>37.764020</td>\n",
       "      <td>-122.432530</td>\n",
       "      <td>3583 16th St</td>\n",
       "      <td>San Francisco</td>\n",
       "      <td>CA</td>\n",
       "      <td>US</td>\n",
       "      <td>(415) 252-7500</td>\n",
       "      <td>[\"Within 24 hours, come at whatever time you w...</td>\n",
       "    </tr>\n",
       "    <tr>\n",
       "      <th>1</th>\n",
       "      <td>XAYwAF_83becwNnSJDFkpA</td>\n",
       "      <td>Dumpling House</td>\n",
       "      <td>https://s3-media2.fl.yelpcdn.com/bphoto/DNfqq1...</td>\n",
       "      <td>https://www.yelp.com/biz/dumpling-house-san-fr...</td>\n",
       "      <td>331</td>\n",
       "      <td>Dim Sum</td>\n",
       "      <td>4.5</td>\n",
       "      <td>$$</td>\n",
       "      <td>37.763552</td>\n",
       "      <td>-122.432762</td>\n",
       "      <td>335 Noe St</td>\n",
       "      <td>San Francisco</td>\n",
       "      <td>CA</td>\n",
       "      <td>US</td>\n",
       "      <td>(415) 829-2789</td>\n",
       "      <td>['Made a reservation for 2 on Monday night for...</td>\n",
       "    </tr>\n",
       "    <tr>\n",
       "      <th>2</th>\n",
       "      <td>i09UMzccKgyLwGYKDVP28w</td>\n",
       "      <td>Surisan</td>\n",
       "      <td>https://s3-media3.fl.yelpcdn.com/bphoto/TRmQFB...</td>\n",
       "      <td>https://www.yelp.com/biz/surisan-san-francisco...</td>\n",
       "      <td>2755</td>\n",
       "      <td>Korean</td>\n",
       "      <td>4.5</td>\n",
       "      <td>$$</td>\n",
       "      <td>37.806780</td>\n",
       "      <td>-122.417560</td>\n",
       "      <td>505 Beach St</td>\n",
       "      <td>San Francisco</td>\n",
       "      <td>CA</td>\n",
       "      <td>US</td>\n",
       "      <td>(415) 771-8449</td>\n",
       "      <td>['Surisan is like my second home because I com...</td>\n",
       "    </tr>\n",
       "  </tbody>\n",
       "</table>\n",
       "</div>"
      ],
      "text/plain": [
       "                       ID            Name  \\\n",
       "0  J7_-faNq_Ag9qTOlDn81Pw       Starbelly   \n",
       "1  XAYwAF_83becwNnSJDFkpA  Dumpling House   \n",
       "2  i09UMzccKgyLwGYKDVP28w         Surisan   \n",
       "\n",
       "                                               Image  \\\n",
       "0  https://s3-media2.fl.yelpcdn.com/bphoto/G1SweY...   \n",
       "1  https://s3-media2.fl.yelpcdn.com/bphoto/DNfqq1...   \n",
       "2  https://s3-media3.fl.yelpcdn.com/bphoto/TRmQFB...   \n",
       "\n",
       "                                                 Url  Review count  \\\n",
       "0  https://www.yelp.com/biz/starbelly-san-francis...          2080   \n",
       "1  https://www.yelp.com/biz/dumpling-house-san-fr...           331   \n",
       "2  https://www.yelp.com/biz/surisan-san-francisco...          2755   \n",
       "\n",
       "       Category  Rating Price   Latitude   Longitude       Address  \\\n",
       "0  Comfort Food     4.0    $$  37.764020 -122.432530  3583 16th St   \n",
       "1       Dim Sum     4.5    $$  37.763552 -122.432762    335 Noe St   \n",
       "2        Korean     4.5    $$  37.806780 -122.417560  505 Beach St   \n",
       "\n",
       "            City State Country           Phone  \\\n",
       "0  San Francisco    CA      US  (415) 252-7500   \n",
       "1  San Francisco    CA      US  (415) 829-2789   \n",
       "2  San Francisco    CA      US  (415) 771-8449   \n",
       "\n",
       "                                              Review  \n",
       "0  [\"Within 24 hours, come at whatever time you w...  \n",
       "1  ['Made a reservation for 2 on Monday night for...  \n",
       "2  ['Surisan is like my second home because I com...  "
      ]
     },
     "execution_count": 4,
     "metadata": {},
     "output_type": "execute_result"
    }
   ],
   "source": [
    "#Read the csv file\n",
    "resturants_df = pd.read_csv(\"Restaurants_reviews_full.csv\")\n",
    "resturants_df.head(3)"
   ]
  },
  {
   "cell_type": "code",
   "execution_count": 5,
   "id": "928d523c-7b54-434c-bb03-49ea8749642f",
   "metadata": {},
   "outputs": [],
   "source": [
    "cleaned_restaurantes_df = resturants_df.drop_duplicates()"
   ]
  },
  {
   "cell_type": "code",
   "execution_count": 6,
   "id": "cf94f0bb-f97b-4a6a-bc6b-24ffff5f67bd",
   "metadata": {},
   "outputs": [],
   "source": [
    "cleaned_restaurantes_df.to_csv('Cleaned_Restaurants_reviews_SF_full.csv',index=False,header=True)"
   ]
  },
  {
   "cell_type": "code",
   "execution_count": null,
   "id": "e2730cc2-5edc-42ac-92de-7470438dc28f",
   "metadata": {},
   "outputs": [],
   "source": []
  }
 ],
 "metadata": {
  "kernelspec": {
   "display_name": "mlenv",
   "language": "python",
   "name": "mlenv"
  },
  "language_info": {
   "codemirror_mode": {
    "name": "ipython",
    "version": 3
   },
   "file_extension": ".py",
   "mimetype": "text/x-python",
   "name": "python",
   "nbconvert_exporter": "python",
   "pygments_lexer": "ipython3",
   "version": "3.7.13"
  }
 },
 "nbformat": 4,
 "nbformat_minor": 5
}
